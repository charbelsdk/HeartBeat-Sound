{
 "cells": [
  {
   "cell_type": "code",
   "execution_count": null,
   "metadata": {},
   "outputs": [],
   "source": [
    "import pandas as pd\n",
    "import numpy as np\n",
    "import librosa\n",
    "import librosa.display\n",
    "import os\n",
    "from pathlib import Path\n",
    "import matplotlib.pyplot as plt\n",
    "from scipy.fft import rfft\n",
    "import tensorflow\n",
    "import keras\n",
    "import IPython.display as ipd"
   ]
  },
  {
   "cell_type": "code",
   "execution_count": null,
   "metadata": {},
   "outputs": [],
   "source": [
    "file_path = Path('..')/'validation'\n",
    "reference = file_path/'REFERENCE.csv'"
   ]
  },
  {
   "cell_type": "code",
   "execution_count": null,
   "metadata": {},
   "outputs": [],
   "source": [
    "df = pd.read_csv(reference)\n",
    "df.columns = ['Sound', 'Target']\n",
    "df['Target'] = (df['Target'] == 1).astype('int')"
   ]
  },
  {
   "cell_type": "code",
   "execution_count": null,
   "metadata": {},
   "outputs": [],
   "source": [
    "normal_heartbeat = file_path/'a0002.wav'\n",
    "abnormal_heartbeat = file_path/'a0011.wav'"
   ]
  },
  {
   "cell_type": "code",
   "execution_count": null,
   "metadata": {},
   "outputs": [],
   "source": [
    "FIG_SIZE = (15, 8)"
   ]
  },
  {
   "cell_type": "code",
   "execution_count": null,
   "metadata": {},
   "outputs": [],
   "source": [
    "normal_signal, sample_rate = librosa.load(normal_heartbeat, sr=22050)\n",
    "abnormal_signal, sample_rate = librosa.load(abnormal_heartbeat, sr=22050)"
   ]
  },
  {
   "cell_type": "code",
   "execution_count": null,
   "metadata": {},
   "outputs": [],
   "source": [
    "plt.figure(figsize=FIG_SIZE)\n",
    "plt.subplot(2, 1, 1)\n",
    "librosa.display.waveplot(normal_signal, sample_rate, alpha=0.4)\n",
    "plt.xlabel(\"Time (s)\")\n",
    "plt.ylabel(\"Amplitude\")\n",
    "plt.title(\"normal Heart Sound Beat\")\n",
    "plt.subplot(2, 1, 2)\n",
    "librosa.display.waveplot(abnormal_signal, sample_rate, alpha=0.4)\n",
    "plt.xlabel(\"Time (s)\")\n",
    "plt.ylabel(\"Amplitude\")\n",
    "plt.title(\"Abnormal Heart Sound Beat\")\n",
    "plt.tight_layout()"
   ]
  },
  {
   "cell_type": "code",
   "execution_count": null,
   "metadata": {},
   "outputs": [],
   "source": [
    "normal_fft = np.fft.fft(normal_signal)\n",
    "normal_spectrum = np.abs(normal_fft)\n",
    "frequencies_normal = np.linspace(0, sample_rate, len(normal_spectrum))\n",
    "left_normal_spectrum = normal_spectrum[:int(len(normal_spectrum)/2)]\n",
    "left_frequencies_normal = frequencies_normal[:int(len(normal_spectrum)/2)]"
   ]
  },
  {
   "cell_type": "code",
   "execution_count": null,
   "metadata": {},
   "outputs": [],
   "source": [
    "abnormal_fft = np.fft.fft(abnormal_signal)\n",
    "abnormal_spectrum = np.abs(abnormal_fft)\n",
    "frequencies_abnormal = np.linspace(0, sample_rate, len(abnormal_spectrum))\n",
    "left_abnormal_spectrum = abnormal_spectrum[:int(len(abnormal_spectrum)/2)]\n",
    "left_frequencies_abnormal = frequencies_abnormal[:int(len(abnormal_spectrum)/2)]"
   ]
  },
  {
   "cell_type": "code",
   "execution_count": null,
   "metadata": {},
   "outputs": [],
   "source": [
    "plt.figure(figsize=FIG_SIZE)\n",
    "plt.subplot(2, 1, 1)\n",
    "plt.plot(left_frequencies_normal, left_normal_spectrum, alpha=0.4)\n",
    "plt.xlabel(\"Frequency\")\n",
    "plt.ylabel(\"Magnitude\")\n",
    "plt.title(\"Power spectrum\")\n",
    "plt.subplot(2, 1, 2)\n",
    "plt.plot(left_frequencies_abnormal, left_abnormal_spectrum, alpha=0.4)\n",
    "plt.xlabel(\"Frequency\")\n",
    "plt.ylabel(\"Magnitude\")\n",
    "plt.title(\"Power spectrum\")\n",
    "plt.tight_layout()"
   ]
  },
  {
   "cell_type": "code",
   "execution_count": null,
   "metadata": {},
   "outputs": [],
   "source": [
    "hop_length = 512\n",
    "n_fft = 2048"
   ]
  },
  {
   "cell_type": "code",
   "execution_count": null,
   "metadata": {},
   "outputs": [],
   "source": [
    "normal_stft = librosa.stft(normal_signal, n_fft=n_fft, hop_length=hop_length)\n",
    "normal_spectogram = np.abs(normal_stft)\n",
    "normal_log_spectogram = librosa.amplitude_to_db(normal_spectogram)"
   ]
  },
  {
   "cell_type": "code",
   "execution_count": null,
   "metadata": {},
   "outputs": [],
   "source": [
    "abnormal_stft = librosa.stft(abnormal_signal, n_fft=n_fft, hop_length=hop_length)\n",
    "abnormal_spectrogram = np.abs(abnormal_stft)\n",
    "abnormal_log_spectrogram = librosa.amplitude_to_db(abnormal_spectrogram)"
   ]
  },
  {
   "cell_type": "code",
   "execution_count": null,
   "metadata": {},
   "outputs": [],
   "source": [
    "plt.figure(figsize=FIG_SIZE)\n",
    "plt.subplot(2, 1, 1)\n",
    "librosa.display.specshow(normal_log_spectogram, sr=sample_rate, hop_length=hop_length, y_axis='log')\n",
    "plt.title('Normal HeartBeat Spectrogram')\n",
    "plt.xlabel('Time')\n",
    "plt.ylabel('Frequency')\n",
    "plt.colorbar(format=\"%+2.0f dB\")\n",
    "plt.subplot(2, 1, 2)\n",
    "librosa.display.specshow(abnormal_log_spectrogram, sr=sample_rate, hop_length=hop_length, y_axis='log')\n",
    "plt.title('Abnormal HeartBeat Spectrogram')\n",
    "plt.xlabel('Time')\n",
    "plt.ylabel('Frequency')\n",
    "plt.colorbar(format='%+2.0f dB')\n",
    "plt.tight_layout()\n",
    "plt.show()"
   ]
  },
  {
   "cell_type": "code",
   "execution_count": null,
   "metadata": {},
   "outputs": [],
   "source": [
    "plt.figure(figsize=FIG_SIZE)\n",
    "plt.subplot(2, 1, 1)\n",
    "normal_mfcc = librosa.feature.mfcc(normal_signal, sr=sample_rate, n_fft=n_fft, hop_length=hop_length, n_mfcc=13)\n",
    "librosa.display.specshow(normal_mfcc, sr=sample_rate, hop_length=hop_length)\n",
    "plt.xlabel('Time')\n",
    "plt.ylabel('MFCC coefficients')\n",
    "plt.colorbar()\n",
    "plt.title('Normal HeartBeat MFCC')\n",
    "plt.subplot(2, 1, 2)\n",
    "abnormal_mfcc = librosa.feature.mfcc(abnormal_signal, sr=sample_rate, hop_length=hop_length, n_fft=n_fft, n_mfcc=13)\n",
    "librosa.display.specshow(normal_mfcc, sr=sample_rate, hop_length=hop_length)\n",
    "plt.xlabel('Time')\n",
    "plt.ylabel('MFCC coefficients')\n",
    "plt.colorbar()\n",
    "plt.title('Abnormal HeartBeat MFCC')\n",
    "plt.tight_layout()\n",
    "plt.show()"
   ]
  },
  {
   "cell_type": "code",
   "execution_count": null,
   "metadata": {},
   "outputs": [],
   "source": [
    "import glob\n",
    "\n",
    "file_names = glob.glob(os.path.join(file_path, '*.wav'))\n",
    "file_names = sorted(file_names, key=lambda p: (-p.count(os.path.sep), p))"
   ]
  },
  {
   "cell_type": "code",
   "execution_count": null,
   "metadata": {},
   "outputs": [],
   "source": [
    "def preprocess_data(file_names, sr=22050, num_mfcc=13, n_fft=2048, hop_length=512):\n",
    "    data = []\n",
    "    for file_name in file_names:\n",
    "        signal, sr = librosa.load(file_name, sr=sr, res_type='kaiser_fast')\n",
    "        mfccs = np.mean(librosa.feature.mfcc(y=signal, sr=sr, n_mfcc=num_mfcc, \n",
    "                                             n_fft=n_fft, hop_length=hop_length),axis=1)\n",
    "        feature = np.array(mfccs).reshape([1,-1])\n",
    "        data.append(feature)\n",
    "    return data"
   ]
  },
  {
   "cell_type": "code",
   "execution_count": null,
   "metadata": {},
   "outputs": [],
   "source": [
    "X = preprocess_data(file_names)"
   ]
  },
  {
   "cell_type": "code",
   "execution_count": null,
   "metadata": {},
   "outputs": [],
   "source": [
    "x = np.array(X)\n",
    "\n",
    "x = x.reshape([-1, 13])\n",
    "\n",
    "df_1 = pd.DataFrame(x)\n",
    "\n",
    "df_1.head()"
   ]
  },
  {
   "cell_type": "code",
   "execution_count": null,
   "metadata": {},
   "outputs": [],
   "source": [
    "from sklearn.model_selection import train_test_split\n",
    "import tensorflow.keras as keras"
   ]
  },
  {
   "cell_type": "code",
   "execution_count": null,
   "metadata": {},
   "outputs": [],
   "source": [
    "X_train, X_test, y_train, y_test = train_test_split(x[1:, :], df['Target'], test_size=0.3)"
   ]
  },
  {
   "cell_type": "code",
   "execution_count": null,
   "metadata": {},
   "outputs": [],
   "source": [
    "model = keras.Sequential([\n",
    "    keras.layers.Dense(512, input_dim=X_train.shape[1], activation='relu'),\n",
    "    keras.layers.Dense(512, activation='relu'),\n",
    "    keras.layers.Dense(256, activation='relu'),\n",
    "    keras.layers.Dense(64, activation='relu'),\n",
    "    keras.layers.Dense(1, activation='sigmoid')\n",
    "    ])\n",
    "optimiser = keras.optimizers.Adam(learning_rate=0.001)\n",
    "model.compile(optimizer=optimiser,\n",
    "                  loss='binary_crossentropy',\n",
    "                  metrics=['accuracy'])\n",
    "# model.summary()\n",
    "history = model.fit(X_train, y_train, validation_data=(X_test, y_test), batch_size=32, epochs=50)"
   ]
  },
  {
   "cell_type": "code",
   "execution_count": null,
   "metadata": {},
   "outputs": [],
   "source": [
    "predictions = model.predict(X_test)"
   ]
  },
  {
   "cell_type": "code",
   "execution_count": null,
   "metadata": {},
   "outputs": [],
   "source": [
    "from sklearn.metrics import confusion_matrix"
   ]
  },
  {
   "cell_type": "code",
   "execution_count": null,
   "metadata": {},
   "outputs": [],
   "source": [
    "print(confusion_matrix(y_test, predictions))"
   ]
  },
  {
   "cell_type": "code",
   "execution_count": null,
   "metadata": {},
   "outputs": [],
   "source": []
  }
 ],
 "metadata": {
  "kernelspec": {
   "display_name": "Python 3",
   "language": "python",
   "name": "python3"
  },
  "language_info": {
   "codemirror_mode": {
    "name": "ipython",
    "version": 3
   },
   "file_extension": ".py",
   "mimetype": "text/x-python",
   "name": "python",
   "nbconvert_exporter": "python",
   "pygments_lexer": "ipython3",
   "version": "3.8.5"
  }
 },
 "nbformat": 4,
 "nbformat_minor": 4
}
